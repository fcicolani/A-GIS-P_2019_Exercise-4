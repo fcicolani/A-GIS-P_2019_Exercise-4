{
 "cells": [
  {
   "cell_type": "code",
   "execution_count": 1,
   "id": "5f9d272b-566d-404d-bf22-0e723d3588d4",
   "metadata": {},
   "outputs": [],
   "source": [
    "import numpy as np\n",
    "import mapclassify as mc"
   ]
  },
  {
   "cell_type": "code",
   "execution_count": 2,
   "id": "04819f7d-e4bd-4c87-acca-a66501077968",
   "metadata": {},
   "outputs": [],
   "source": [
    "import pandas as pd"
   ]
  },
  {
   "cell_type": "code",
   "execution_count": 5,
   "id": "ff48d565-d580-41e9-bca2-5b3c44e370d5",
   "metadata": {},
   "outputs": [],
   "source": [
    "upper_bounds = [2, 7,]"
   ]
  },
  {
   "cell_type": "code",
   "execution_count": 3,
   "id": "be9ff00f-2312-45d0-bdd6-437ec36f1978",
   "metadata": {},
   "outputs": [],
   "source": [
    "data = pd.DataFrame({'A':[1,1,2,2,5,6,8,10], 'B':[1,3,7,7,8,9,9,10]})"
   ]
  },
  {
   "cell_type": "code",
   "execution_count": 4,
   "id": "a84daf77-328f-4693-84c7-f2e4873021bc",
   "metadata": {},
   "outputs": [
    {
     "data": {
      "text/html": [
       "<div>\n",
       "<style scoped>\n",
       "    .dataframe tbody tr th:only-of-type {\n",
       "        vertical-align: middle;\n",
       "    }\n",
       "\n",
       "    .dataframe tbody tr th {\n",
       "        vertical-align: top;\n",
       "    }\n",
       "\n",
       "    .dataframe thead th {\n",
       "        text-align: right;\n",
       "    }\n",
       "</style>\n",
       "<table border=\"1\" class=\"dataframe\">\n",
       "  <thead>\n",
       "    <tr style=\"text-align: right;\">\n",
       "      <th></th>\n",
       "      <th>A</th>\n",
       "      <th>B</th>\n",
       "    </tr>\n",
       "  </thead>\n",
       "  <tbody>\n",
       "    <tr>\n",
       "      <th>0</th>\n",
       "      <td>1</td>\n",
       "      <td>1</td>\n",
       "    </tr>\n",
       "    <tr>\n",
       "      <th>1</th>\n",
       "      <td>1</td>\n",
       "      <td>3</td>\n",
       "    </tr>\n",
       "    <tr>\n",
       "      <th>2</th>\n",
       "      <td>2</td>\n",
       "      <td>7</td>\n",
       "    </tr>\n",
       "    <tr>\n",
       "      <th>3</th>\n",
       "      <td>2</td>\n",
       "      <td>7</td>\n",
       "    </tr>\n",
       "    <tr>\n",
       "      <th>4</th>\n",
       "      <td>5</td>\n",
       "      <td>8</td>\n",
       "    </tr>\n",
       "    <tr>\n",
       "      <th>5</th>\n",
       "      <td>6</td>\n",
       "      <td>9</td>\n",
       "    </tr>\n",
       "    <tr>\n",
       "      <th>6</th>\n",
       "      <td>8</td>\n",
       "      <td>9</td>\n",
       "    </tr>\n",
       "    <tr>\n",
       "      <th>7</th>\n",
       "      <td>10</td>\n",
       "      <td>10</td>\n",
       "    </tr>\n",
       "  </tbody>\n",
       "</table>\n",
       "</div>"
      ],
      "text/plain": [
       "    A   B\n",
       "0   1   1\n",
       "1   1   3\n",
       "2   2   7\n",
       "3   2   7\n",
       "4   5   8\n",
       "5   6   9\n",
       "6   8   9\n",
       "7  10  10"
      ]
     },
     "execution_count": 4,
     "metadata": {},
     "output_type": "execute_result"
    }
   ],
   "source": [
    "data"
   ]
  },
  {
   "cell_type": "code",
   "execution_count": 35,
   "id": "e876b459-222c-4c44-b488-3c3b1dde0b72",
   "metadata": {},
   "outputs": [],
   "source": [
    "pooled = mc.Pooled(data[['A', 'B']], classifier=\"UserDefined\", bins = upper_bounds)"
   ]
  },
  {
   "cell_type": "code",
   "execution_count": 36,
   "id": "cb57b10b-f1e8-40c8-9686-c4352adc955e",
   "metadata": {},
   "outputs": [],
   "source": [
    "data['A_class'] = pooled.col_classifiers[0].make(bins=upper_bounds)(data['A'])"
   ]
  },
  {
   "cell_type": "code",
   "execution_count": 37,
   "id": "a0663ac6-6cb1-42b7-8abf-900e5d1bb9cb",
   "metadata": {},
   "outputs": [],
   "source": [
    "data['B_class'] = pooled.col_classifiers[1].make(bins=upper_bounds)(data['B'])"
   ]
  },
  {
   "cell_type": "code",
   "execution_count": 38,
   "id": "43b67959-1fd1-42a2-a0c2-e1fc0faff4df",
   "metadata": {},
   "outputs": [
    {
     "data": {
      "text/html": [
       "<div>\n",
       "<style scoped>\n",
       "    .dataframe tbody tr th:only-of-type {\n",
       "        vertical-align: middle;\n",
       "    }\n",
       "\n",
       "    .dataframe tbody tr th {\n",
       "        vertical-align: top;\n",
       "    }\n",
       "\n",
       "    .dataframe thead th {\n",
       "        text-align: right;\n",
       "    }\n",
       "</style>\n",
       "<table border=\"1\" class=\"dataframe\">\n",
       "  <thead>\n",
       "    <tr style=\"text-align: right;\">\n",
       "      <th></th>\n",
       "      <th>A</th>\n",
       "      <th>B</th>\n",
       "      <th>A_class</th>\n",
       "      <th>B_class</th>\n",
       "    </tr>\n",
       "  </thead>\n",
       "  <tbody>\n",
       "    <tr>\n",
       "      <th>0</th>\n",
       "      <td>1</td>\n",
       "      <td>1</td>\n",
       "      <td>0</td>\n",
       "      <td>0</td>\n",
       "    </tr>\n",
       "    <tr>\n",
       "      <th>1</th>\n",
       "      <td>1</td>\n",
       "      <td>3</td>\n",
       "      <td>0</td>\n",
       "      <td>1</td>\n",
       "    </tr>\n",
       "    <tr>\n",
       "      <th>2</th>\n",
       "      <td>2</td>\n",
       "      <td>7</td>\n",
       "      <td>0</td>\n",
       "      <td>1</td>\n",
       "    </tr>\n",
       "    <tr>\n",
       "      <th>3</th>\n",
       "      <td>2</td>\n",
       "      <td>7</td>\n",
       "      <td>0</td>\n",
       "      <td>1</td>\n",
       "    </tr>\n",
       "    <tr>\n",
       "      <th>4</th>\n",
       "      <td>5</td>\n",
       "      <td>8</td>\n",
       "      <td>1</td>\n",
       "      <td>2</td>\n",
       "    </tr>\n",
       "    <tr>\n",
       "      <th>5</th>\n",
       "      <td>6</td>\n",
       "      <td>9</td>\n",
       "      <td>1</td>\n",
       "      <td>2</td>\n",
       "    </tr>\n",
       "    <tr>\n",
       "      <th>6</th>\n",
       "      <td>8</td>\n",
       "      <td>9</td>\n",
       "      <td>2</td>\n",
       "      <td>2</td>\n",
       "    </tr>\n",
       "    <tr>\n",
       "      <th>7</th>\n",
       "      <td>10</td>\n",
       "      <td>10</td>\n",
       "      <td>2</td>\n",
       "      <td>2</td>\n",
       "    </tr>\n",
       "  </tbody>\n",
       "</table>\n",
       "</div>"
      ],
      "text/plain": [
       "    A   B  A_class  B_class\n",
       "0   1   1        0        0\n",
       "1   1   3        0        1\n",
       "2   2   7        0        1\n",
       "3   2   7        0        1\n",
       "4   5   8        1        2\n",
       "5   6   9        1        2\n",
       "6   8   9        2        2\n",
       "7  10  10        2        2"
      ]
     },
     "execution_count": 38,
     "metadata": {},
     "output_type": "execute_result"
    }
   ],
   "source": [
    "data"
   ]
  },
  {
   "cell_type": "code",
   "execution_count": 39,
   "id": "a7864f85-39ba-4e1b-9148-4381fa9115a9",
   "metadata": {},
   "outputs": [
    {
     "data": {
      "text/plain": [
       "UserDefined\n",
       "\n",
       "   Interval      Count\n",
       "----------------------\n",
       "[ 1.00,  2.00] |     5\n",
       "( 2.00,  7.00] |     5\n",
       "( 7.00, 10.00] |     6"
      ]
     },
     "execution_count": 39,
     "metadata": {},
     "output_type": "execute_result"
    }
   ],
   "source": [
    "pooled.global_classifier"
   ]
  },
  {
   "cell_type": "code",
   "execution_count": 40,
   "id": "92bf9f68-749d-4892-8587-3b023137e4c7",
   "metadata": {},
   "outputs": [
    {
     "data": {
      "text/plain": [
       "[Pooled UserDefined\n",
       " \n",
       "    Interval      Count\n",
       " ----------------------\n",
       " [ 1.00,  2.00] |     4\n",
       " ( 2.00,  7.00] |     2\n",
       " ( 7.00, 10.00] |     2,\n",
       " Pooled UserDefined\n",
       " \n",
       "    Interval      Count\n",
       " ----------------------\n",
       " [ 1.00,  2.00] |     1\n",
       " ( 2.00,  7.00] |     3\n",
       " ( 7.00, 10.00] |     4]"
      ]
     },
     "execution_count": 40,
     "metadata": {},
     "output_type": "execute_result"
    }
   ],
   "source": [
    "pooled.col_classifiers"
   ]
  },
  {
   "cell_type": "code",
   "execution_count": 41,
   "id": "a10a1926-697b-46c8-9d79-7cf46a8f2bb3",
   "metadata": {},
   "outputs": [
    {
     "data": {
      "text/plain": [
       "[2, 7]"
      ]
     },
     "execution_count": 41,
     "metadata": {},
     "output_type": "execute_result"
    }
   ],
   "source": [
    "pooled.bins"
   ]
  },
  {
   "cell_type": "code",
   "execution_count": 42,
   "id": "dc2a32f7-d973-46ec-8fdb-bd5ca8b9bddb",
   "metadata": {},
   "outputs": [
    {
     "data": {
      "text/plain": [
       "array([ 2,  7, 10], dtype=int64)"
      ]
     },
     "execution_count": 42,
     "metadata": {},
     "output_type": "execute_result"
    }
   ],
   "source": [
    "pooled.global_classifier.bins"
   ]
  },
  {
   "cell_type": "code",
   "execution_count": 45,
   "id": "a93c4e15-78d1-497c-894d-789c21c21dc7",
   "metadata": {},
   "outputs": [
    {
     "data": {
      "text/plain": [
       "[[0, 1, 2, 3, 8], [4, 5, 9, 10, 11], [6, 7, 12, 13, 14, 15]]"
      ]
     },
     "execution_count": 45,
     "metadata": {},
     "output_type": "execute_result"
    }
   ],
   "source": [
    "pooled.classes"
   ]
  },
  {
   "cell_type": "code",
   "execution_count": 49,
   "id": "f0dc9669-dab3-4356-a771-3db1536c2592",
   "metadata": {},
   "outputs": [
    {
     "data": {
      "text/plain": [
       "[[0, 1, 2, 3], [4, 5], [6, 7]]"
      ]
     },
     "execution_count": 49,
     "metadata": {},
     "output_type": "execute_result"
    }
   ],
   "source": [
    "pooled.col_classifiers[0].classes"
   ]
  },
  {
   "cell_type": "code",
   "execution_count": 50,
   "id": "64f7fd54-8001-4c15-b661-8bd0fc7077ac",
   "metadata": {},
   "outputs": [
    {
     "data": {
      "text/plain": [
       "[[0], [1, 2, 3], [4, 5, 6, 7]]"
      ]
     },
     "execution_count": 50,
     "metadata": {},
     "output_type": "execute_result"
    }
   ],
   "source": [
    "pooled.col_classifiers[1].classes"
   ]
  },
  {
   "cell_type": "code",
   "execution_count": null,
   "id": "9ecc8ac6-cdc0-4b1b-8b2b-3ce681c5725d",
   "metadata": {},
   "outputs": [],
   "source": []
  }
 ],
 "metadata": {
  "kernelspec": {
   "display_name": "Python 3 (ipykernel)",
   "language": "python",
   "name": "python3"
  },
  "language_info": {
   "codemirror_mode": {
    "name": "ipython",
    "version": 3
   },
   "file_extension": ".py",
   "mimetype": "text/x-python",
   "name": "python",
   "nbconvert_exporter": "python",
   "pygments_lexer": "ipython3",
   "version": "3.12.0"
  }
 },
 "nbformat": 4,
 "nbformat_minor": 5
}
